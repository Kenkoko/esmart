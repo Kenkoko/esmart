{
 "cells": [
  {
   "cell_type": "code",
   "execution_count": 60,
   "metadata": {},
   "outputs": [
    {
     "data": {
      "text/plain": [
       "array([0.5, 0.5, 0.5], dtype=float32)"
      ]
     },
     "execution_count": 60,
     "metadata": {},
     "output_type": "execute_result"
    }
   ],
   "source": [
    "metric = tfa.metrics.F1Score(num_classes=3, threshold=0.5,)\n",
    "y_true = np.array([[1, 0, 0],\n",
    "                   [0, 1, 0],\n",
    "                   [0, 0, 1]], np.int32)\n",
    "y_pred = np.array([[0.8, 0.6, 0.7],\n",
    "                   [0.6, 0.6, 0.6],\n",
    "                   [0.6, 0.6, 0.8]], np.float32)\n",
    "metric.update_state(y_true, y_pred)\n",
    "result = metric.result()\n",
    "result.numpy()"
   ]
  },
  {
   "cell_type": "code",
   "execution_count": 58,
   "metadata": {},
   "outputs": [
    {
     "data": {
      "text/plain": [
       "array([[[0., 2.],\n",
       "        [0., 1.]],\n",
       "\n",
       "       [[0., 2.],\n",
       "        [0., 1.]],\n",
       "\n",
       "       [[0., 2.],\n",
       "        [0., 1.]]], dtype=float32)"
      ]
     },
     "execution_count": 58,
     "metadata": {},
     "output_type": "execute_result"
    }
   ],
   "source": [
    "import numpy as np\n",
    "import tensorflow_addons as tfa\n",
    "\n",
    "# if multiclass input is provided\n",
    "\n",
    "y_true = np.array([[1, 0, 0],\n",
    "                   [0, 1, 0],\n",
    "                   [0, 0, 1]], np.int32)\n",
    "y_pred = np.array([[0.8, 0.6, 0.7],\n",
    "                   [0.6, 0.6, 0.6],\n",
    "                   [0.6, 0.6, 0.8]], np.float32)\n",
    "metric = tfa.metrics.MultiLabelConfusionMatrix(num_classes=3)\n",
    "metric.update_state(y_true, y_pred.round())\n",
    "result = metric.result()\n",
    "result.numpy() #doctest: -DONT_ACCEPT_BLANKLINE\n",
    "\n",
    "\n"
   ]
  },
  {
   "cell_type": "code",
   "execution_count": null,
   "metadata": {},
   "outputs": [],
   "source": []
  },
  {
   "cell_type": "code",
   "execution_count": 59,
   "metadata": {},
   "outputs": [
    {
     "data": {
      "text/plain": [
       "array([0.6666667, 1.       , 0.6666667], dtype=float32)"
      ]
     },
     "execution_count": 59,
     "metadata": {},
     "output_type": "execute_result"
    }
   ],
   "source": [
    "metric = tfa.metrics.F1Score(num_classes=3)\n",
    "metric.update_state(y_true, y_pred)\n",
    "result = metric.result()\n",
    "result.numpy()\n"
   ]
  },
  {
   "cell_type": "code",
   "execution_count": 56,
   "metadata": {},
   "outputs": [
    {
     "data": {
      "text/plain": [
       "array([1., 1., 1.], dtype=float32)"
      ]
     },
     "execution_count": 56,
     "metadata": {},
     "output_type": "execute_result"
    }
   ],
   "source": [
    "from esmart.util.metric import RecallMultiClass\n",
    "import numpy as np\n",
    "\n",
    "metric = RecallMultiClass(num_classes=3)\n",
    "\n",
    "metric.update_state(y_true, y_pred)\n",
    "result = metric.result()\n",
    "result.numpy()"
   ]
  },
  {
   "cell_type": "code",
   "execution_count": 57,
   "metadata": {},
   "outputs": [
    {
     "data": {
      "text/plain": [
       "array([0.5, 1. , 0.5], dtype=float32)"
      ]
     },
     "execution_count": 57,
     "metadata": {},
     "output_type": "execute_result"
    }
   ],
   "source": [
    "from esmart.util.metric import PrecisionMultiClass\n",
    "import numpy as np\n",
    "\n",
    "metric = PrecisionMultiClass(num_classes=3)\n",
    "\n",
    "metric.update_state(y_true, y_pred)\n",
    "result = metric.result()\n",
    "result.numpy()"
   ]
  }
 ],
 "metadata": {
  "kernelspec": {
   "display_name": "Python 3.9.12 ('tf': conda)",
   "language": "python",
   "name": "python3"
  },
  "language_info": {
   "codemirror_mode": {
    "name": "ipython",
    "version": 3
   },
   "file_extension": ".py",
   "mimetype": "text/x-python",
   "name": "python",
   "nbconvert_exporter": "python",
   "pygments_lexer": "ipython3",
   "version": "3.9.12"
  },
  "orig_nbformat": 4,
  "vscode": {
   "interpreter": {
    "hash": "174681785ab70e909b0854fd8882423a304d48281ab910c83f388631228e7094"
   }
  }
 },
 "nbformat": 4,
 "nbformat_minor": 2
}
